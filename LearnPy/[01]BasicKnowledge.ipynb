{
 "cells": [
  {
   "cell_type": "code",
   "execution_count": 1,
   "id": "3cf030e4",
   "metadata": {
    "scrolled": true
   },
   "outputs": [
    {
     "name": "stdout",
     "output_type": "stream",
     "text": [
      "Hello, world!\n"
     ]
    }
   ],
   "source": [
    "print('Hello, world!')"
   ]
  },
  {
   "cell_type": "markdown",
   "id": "7318309e",
   "metadata": {},
   "source": [
    "## **启动和退出jupyter notebook**\n",
    "\n",
    "在cmd中首先进入目标文件夹，然后输入jupyter notebook，即可在默认浏览器中启动jupyter notebook。\n",
    "\n",
    "也可以先打开文件夹，然后右键使用git bash here来启动jupyter notebook。git bash有充当cmd的功能。\n",
    "\n",
    "退出的方式是在控制台按下Ctrl + C\n",
    "\n",
    "\n",
    "## **使用cmd打开文件夹的方法**\n",
    "#### 方法一（快捷简单）\n",
    "​\n",
    "打开指定的文件夹，在路径栏里点击并输入“cmd”，回车，就进入控制台了。默认路径就是指定文件夹的路径。\n",
    "\n",
    "​\n",
    "![](https://pic4.zhimg.com/v2-d3573d2aaf25f82c426c15bc69647bb3_b.jpg)\n",
    "​\n",
    "![](https://pic1.zhimg.com/v2-f8b0e3c32491d515c98784ff0842d5d4_b.jpg)\n",
    "​\n",
    "![](https://pic2.zhimg.com/v2-9e08b506adfb3cd2ed9f04ad346b658d_b.jpg)\n",
    "​\n",
    "#### 方法二\n",
    "​\n",
    "在搜索框中搜索“cmd”或按win+R键，打开命令窗口。\n",
    "\n",
    "在默认路径后输入“cd”，空格，再输入（复制）指定文件夹路径。\n",
    "\n",
    "我们发现回车后暂时还是原来默认的路径。\n",
    "\n",
    "​\n",
    "![](https://pic3.zhimg.com/v2-883e375319ad2a327e0d20b3f8f71c3e_b.jpg)\n",
    "\n",
    "​\n",
    "然后输入指定文件夹所在的盘，这里我们输入的是“E:\"（双引号里的），再回车就是指定的路径了。\n",
    "\n",
    "​\n",
    "![](https://pic2.zhimg.com/v2-c58c2fe3cda1101b40c20dc0727c1b69_b.jpg)\n",
    "\n",
    "​\n",
    "#### 方法三\n",
    "​\n",
    "打开指定的文件夹，按住shift键，在空白处右击，在菜单栏中选择“在此处打开Powershell窗口”。\n",
    "\n",
    "​\n",
    "![](https://pic1.zhimg.com/v2-67ff2eb82b9c2018063f797471500b68_b.jpg)\n",
    "\n",
    "​\n",
    "打开的命令窗口里就是当前路径了。\n",
    "\n",
    "​\n",
    "![](https://pic1.zhimg.com/v2-539ce5ee6270f21e9f98c23f0e779a70_b.jpg)\n",
    "\n",
    "​\n",
    "或者你也可以 先输入路径所在磁盘，例：\"e:\"或\"E:\"，进入所在磁盘，然后输入cd+空格，一层一层打开文件夹。\n",
    "\n",
    "​\n",
    "![](https://pic4.zhimg.com/v2-6950fe2d3c2f2facc854c6cfce3276e7_b.jpg)\n"
   ]
  },
  {
   "cell_type": "markdown",
   "id": "e5f624b0",
   "metadata": {},
   "source": [
    "## tab completion\n",
    "通过tab键来补足变量、函数或者文件等等，这是大多数编译器的情况。在VScode只需要停顿输入就有提示，不需要用到tab键。\n",
    "```\n",
    "an_apple = 27\n",
    "an_example = 42\n",
    "an<Tab>\n",
    "an_apple\n",
    "an_example\n",
    "```"
   ]
  },
  {
   "cell_type": "markdown",
   "id": "38f1ffa4",
   "metadata": {},
   "source": [
    "## 反省 Introspection \n",
    "在一个变量的前后使用一个?可以展示一些这个object的一些总体信息。使用在函数方法等上可以展示它的定义和用法。"
   ]
  },
  {
   "cell_type": "code",
   "execution_count": 1,
   "id": "7e79b82e",
   "metadata": {},
   "outputs": [
    {
     "name": "stdout",
     "output_type": "stream",
     "text": [
      "\u001b[1;31mType:\u001b[0m        list\n",
      "\u001b[1;31mString form:\u001b[0m [1, 2, 3]\n",
      "\u001b[1;31mLength:\u001b[0m      3\n",
      "\u001b[1;31mDocstring:\u001b[0m  \n",
      "Built-in mutable sequence.\n",
      "\n",
      "If no argument is given, the constructor creates a new empty list.\n",
      "The argument must be an iterable if specified.\n"
     ]
    }
   ],
   "source": [
    "b = [1, 2, 3]\n",
    "b?\n"
   ]
  },
  {
   "cell_type": "code",
   "execution_count": 2,
   "id": "4b777ac2",
   "metadata": {},
   "outputs": [
    {
     "name": "stdout",
     "output_type": "stream",
     "text": [
      "\u001b[1;31mDocstring:\u001b[0m\n",
      "print(value, ..., sep=' ', end='\\n', file=sys.stdout, flush=False)\n",
      "\n",
      "Prints the values to a stream, or to sys.stdout by default.\n",
      "Optional keyword arguments:\n",
      "file:  a file-like object (stream); defaults to the current sys.stdout.\n",
      "sep:   string inserted between values, default a space.\n",
      "end:   string appended after the last value, default a newline.\n",
      "flush: whether to forcibly flush the stream.\n",
      "\u001b[1;31mType:\u001b[0m      builtin_function_or_method\n"
     ]
    }
   ],
   "source": [
    "print?"
   ]
  },
  {
   "cell_type": "code",
   "execution_count": 3,
   "id": "eb43c347",
   "metadata": {},
   "outputs": [
    {
     "name": "stdout",
     "output_type": "stream",
     "text": [
      "np.__loader__\n",
      "np.load\n",
      "np.loadtxt"
     ]
    }
   ],
   "source": [
    "import numpy as np\n",
    "np.*load*?"
   ]
  },
  {
   "cell_type": "markdown",
   "id": "31bb12f3",
   "metadata": {},
   "source": [
    "## The %run command\n",
    "我有一个ipython_script_test.py在文件夹中，我可以通过这个命令在这个notebook文件中运行它。\n",
    "运行后看上去不会有什么变化，但是运行结果全部都存在于Ipython shell中了。"
   ]
  },
  {
   "cell_type": "code",
   "execution_count": 5,
   "id": "be4959f2",
   "metadata": {},
   "outputs": [],
   "source": [
    "%run ipython_script_test.py"
   ]
  },
  {
   "cell_type": "code",
   "execution_count": 6,
   "id": "7104dfe9",
   "metadata": {},
   "outputs": [
    {
     "data": {
      "text/plain": [
       "7.5"
      ]
     },
     "execution_count": 6,
     "metadata": {},
     "output_type": "execute_result"
    }
   ],
   "source": [
    "c"
   ]
  },
  {
   "cell_type": "code",
   "execution_count": 7,
   "id": "9e1dde6c",
   "metadata": {},
   "outputs": [
    {
     "data": {
      "text/plain": [
       "1.4666666666666666"
      ]
     },
     "execution_count": 7,
     "metadata": {},
     "output_type": "execute_result"
    }
   ],
   "source": [
    "result"
   ]
  },
  {
   "cell_type": "markdown",
   "id": "55cb24bb",
   "metadata": {},
   "source": [
    "## The %load command\n",
    "用%load命令可以直接把这个文件在这里运行并打开，并自动把`%load ipython_script_test.py`变成注释。\n",
    " "
   ]
  },
  {
   "cell_type": "code",
   "execution_count": 8,
   "id": "e6c5889c",
   "metadata": {},
   "outputs": [],
   "source": [
    "# %load ipython_script_test.py\n",
    "def f(x, y, z):\n",
    "    return (x + y) / z\n",
    "\n",
    "\n",
    "a = 5\n",
    "b = 6\n",
    "c = 7.5\n",
    "\n",
    "result = f(a, b, c)\n"
   ]
  },
  {
   "cell_type": "markdown",
   "id": "e32cb3c8",
   "metadata": {},
   "source": [
    "## 从剪切板执行代码\n",
    "用%paste\n",
    "%cpaste"
   ]
  },
  {
   "cell_type": "code",
   "execution_count": 9,
   "id": "6d8ec869",
   "metadata": {
    "scrolled": true
   },
   "outputs": [
    {
     "name": "stderr",
     "output_type": "stream",
     "text": [
      "UsageError: Line magic function `%paste` not found.\n"
     ]
    }
   ],
   "source": [
    "%paste"
   ]
  },
  {
   "cell_type": "code",
   "execution_count": 10,
   "id": "f0501db2",
   "metadata": {
    "scrolled": true
   },
   "outputs": [
    {
     "name": "stderr",
     "output_type": "stream",
     "text": [
      "UsageError: Line magic function `%cpaste` not found.\n"
     ]
    }
   ],
   "source": [
    "%cpaste"
   ]
  },
  {
   "cell_type": "markdown",
   "id": "e1992916",
   "metadata": {},
   "source": [
    "## Keyboard shortcuts\n",
    "[快捷键用法](https://jakevdp.github.io/PythonDataScienceHandbook/01.02-shell-keyboard-shortcuts.html)"
   ]
  },
  {
   "cell_type": "markdown",
   "id": "5caccb70",
   "metadata": {},
   "source": [
    "## 关于magic commands\n",
    "Ipython的magic commands是不存在于原来的python中的，一个magic总是以%为开头。可以使用%timeit来检查一段python语句的执行时间，比如一个矩阵操作。magic是可以用？来查看额外的“命令行”选择。"
   ]
  },
  {
   "cell_type": "code",
   "execution_count": 11,
   "id": "76f8584a",
   "metadata": {},
   "outputs": [
    {
     "name": "stdout",
     "output_type": "stream",
     "text": [
      "96.3 µs ± 1.67 µs per loop (mean ± std. dev. of 7 runs, 10,000 loops each)\n"
     ]
    }
   ],
   "source": [
    "import numpy as np\n",
    "a = np.random.randn(100, 100)\n",
    "%timeit np.dot(a, a)"
   ]
  }
 ],
 "metadata": {
  "kernelspec": {
   "display_name": "Python 3 (ipykernel)",
   "language": "python",
   "name": "python3"
  },
  "language_info": {
   "codemirror_mode": {
    "name": "ipython",
    "version": 3
   },
   "file_extension": ".py",
   "mimetype": "text/x-python",
   "name": "python",
   "nbconvert_exporter": "python",
   "pygments_lexer": "ipython3",
   "version": "3.10.5"
  },
  "vscode": {
   "interpreter": {
    "hash": "865d8b2eb28e274047ba64063dfb6a2aabf0dfec4905d304d7a76618dae6fdd4"
   }
  }
 },
 "nbformat": 4,
 "nbformat_minor": 5
}
